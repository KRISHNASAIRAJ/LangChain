{
 "cells": [
  {
   "cell_type": "code",
   "execution_count": 43,
   "metadata": {},
   "outputs": [],
   "source": [
    "\n",
    "import os\n",
    "groq_api_key = os.environ.get(\"GROQ_API_KEY\")\n",
    "from dotenv import load_dotenv\n",
    "load_dotenv(dotenv_path=\"LangChain/.env\")\n",
    "if not groq_api_key:\n",
    "    raise ValueError(\"GROQ_API_KEY is not set in the environment variables.\")\n",
    "\n",
    "from langchain_groq import ChatGroq\n",
    "\n",
    "model = ChatGroq(model=\"llama3-8b-8192\")"
   ]
  },
  {
   "cell_type": "code",
   "execution_count": 44,
   "metadata": {},
   "outputs": [],
   "source": [
    "from langchain_core.prompts import PromptTemplate\n",
    "\n",
    "faq_template = \"\"\"\n",
    "You are a helpful assistant specializing in answering questions. \n",
    "Here is the context:\n",
    "{context}\n",
    "\n",
    "User Question: {question}\n",
    "\n",
    "Provide a concise and helpful answer.\n",
    "\"\"\"\n",
    "\n",
    "prompt = PromptTemplate(\n",
    "    input_variables=[\"context\", \"question\"],\n",
    "    template=faq_template\n",
    ")"
   ]
  },
  {
   "cell_type": "code",
   "execution_count": 45,
   "metadata": {},
   "outputs": [],
   "source": [
    "context = \"\"\"\n",
    "1. Diversify your portfolio across Gold, Equity, Crypto, ETFs and Mutual Funds.\n",
    "2. Nifty50 is an index fund that invests in the india's top 50 companies.\n",
    "3. The Large Caps will be growing in the year 2025.\n",
    "4. Don't blindly intrest in penny stocks.\n",
    "5. Don't invest in companies that are not listed on the stock exchange.\n",
    "6. Focus on Hospitality, Hotels, FMCG Sectors for the next few months.\n",
    "\"\"\"\n"
   ]
  },
  {
   "cell_type": "code",
   "execution_count": 46,
   "metadata": {},
   "outputs": [],
   "source": [
    "def faq_bot():\n",
    "    print(\"Welcome to the DoubtEquity bot!\")\n",
    "    while True:\n",
    "        question = input(\"\\nAsk a question: \")\n",
    "        if question.lower() == \"exit\" or question.lower() == \"quit\" or question.lower() == \"bye\":\n",
    "            print(\"Thank you for using the FAQ bot!\")\n",
    "            break\n",
    "        formatted_prompt = prompt.format(context=context, question=question)\n",
    "        response = model.invoke(formatted_prompt)\n",
    "        print(f\"\\nBot: {response}\")"
   ]
  },
  {
   "cell_type": "code",
   "execution_count": 47,
   "metadata": {},
   "outputs": [
    {
     "name": "stdout",
     "output_type": "stream",
     "text": [
      "Welcome to the DoubtEquity bot!\n",
      "\n",
      "Bot: content='According to your previous hints, the sector that is expected to grow in 2025 is Large Caps.' additional_kwargs={} response_metadata={'token_usage': {'completion_tokens': 22, 'prompt_tokens': 146, 'total_tokens': 168, 'completion_time': 0.018333333, 'prompt_time': 0.018015314, 'queue_time': 0.019852541999999997, 'total_time': 0.036348647}, 'model_name': 'llama3-8b-8192', 'system_fingerprint': 'fp_179b0f92c9', 'finish_reason': 'stop', 'logprobs': None} id='run-89d15063-cd00-4a73-9256-bc02dbe4c3aa-0' usage_metadata={'input_tokens': 146, 'output_tokens': 22, 'total_tokens': 168}\n"
     ]
    },
    {
     "name": "stderr",
     "output_type": "stream",
     "text": [
      "Failed to multipart ingest runs: langsmith.utils.LangSmithError: Failed to POST https://api.smith.langchain.com/runs/multipart in LangSmith API. HTTPError('403 Client Error: Forbidden for url: https://api.smith.langchain.com/runs/multipart', '{\"detail\":\"Forbidden\"}')\n",
      "Failed to multipart ingest runs: langsmith.utils.LangSmithError: Failed to POST https://api.smith.langchain.com/runs/multipart in LangSmith API. HTTPError('403 Client Error: Forbidden for url: https://api.smith.langchain.com/runs/multipart', '{\"detail\":\"Forbidden\"}')\n"
     ]
    },
    {
     "name": "stdout",
     "output_type": "stream",
     "text": [
      "Thank you for using the FAQ bot!\n"
     ]
    }
   ],
   "source": [
    "faq_bot()"
   ]
  }
 ],
 "metadata": {
  "kernelspec": {
   "display_name": "base",
   "language": "python",
   "name": "python3"
  },
  "language_info": {
   "codemirror_mode": {
    "name": "ipython",
    "version": 3
   },
   "file_extension": ".py",
   "mimetype": "text/x-python",
   "name": "python",
   "nbconvert_exporter": "python",
   "pygments_lexer": "ipython3",
   "version": "3.10.9"
  }
 },
 "nbformat": 4,
 "nbformat_minor": 2
}
